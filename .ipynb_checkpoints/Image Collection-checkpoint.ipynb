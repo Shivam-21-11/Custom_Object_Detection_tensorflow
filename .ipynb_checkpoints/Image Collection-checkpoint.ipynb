{
 "cells": [
  {
   "cell_type": "markdown",
   "id": "d51970da",
   "metadata": {},
   "source": [
    "# Import Dependencies"
   ]
  },
  {
   "cell_type": "code",
   "execution_count": null,
   "id": "52d679b9",
   "metadata": {},
   "outputs": [],
   "source": [
    "import tensorflow as tf \n",
    "import cv2\n",
    "import os\n",
    "import uuid\n",
    "import time"
   ]
  },
  {
   "cell_type": "markdown",
   "id": "ec4d3127",
   "metadata": {},
   "source": [
    "# Collect images "
   ]
  },
  {
   "cell_type": "code",
   "execution_count": null,
   "id": "89b720ce",
   "metadata": {},
   "outputs": [],
   "source": [
    "labels = ['OK','Wait','Yolo']\n",
    "num_images = len(labels)"
   ]
  },
  {
   "cell_type": "markdown",
   "id": "e4b022fe",
   "metadata": {},
   "source": [
    "# setup folders"
   ]
  },
  {
   "cell_type": "code",
   "execution_count": null,
   "id": "94f923f8",
   "metadata": {},
   "outputs": [],
   "source": [
    "IMG_PATH = os.path.join('tensorflow','workspace','images','collectedImages')"
   ]
  },
  {
   "cell_type": "code",
   "execution_count": null,
   "id": "eb270445",
   "metadata": {},
   "outputs": [],
   "source": [
    "if not os.path.exists(IMG_PATH):\n",
    "    !mkdir {IMG_PATH}\n",
    "for label in labels:\n",
    "    label_path = os.path.join(IMG_PATH,label)\n",
    "    if not os.path.exists(label_path):\n",
    "        !mkdir {label_path}"
   ]
  },
  {
   "cell_type": "markdown",
   "id": "e26c1357",
   "metadata": {},
   "source": [
    "# capture images"
   ]
  },
  {
   "cell_type": "code",
   "execution_count": null,
   "id": "4609853a",
   "metadata": {},
   "outputs": [],
   "source": [
    "total_cap = 5"
   ]
  },
  {
   "cell_type": "code",
   "execution_count": null,
   "id": "a1ad3a65",
   "metadata": {},
   "outputs": [],
   "source": [
    "for label in labels:\n",
    "    cap = cv2.VideoCapture(0)\n",
    "    print(f'Collecting Images For {label}')\n",
    "    time.sleep(10)\n",
    "    for imnum in range(total_cap):\n",
    "        ret , frame = cap.read()\n",
    "        image_name = os.path.join(IMG_PATH,label,label+f\"{str(uuid.uuid1())}.jpg\")\n",
    "        cv2.imwrite(image_name,frame)\n",
    "        cv2.imshow('frame',frame)\n",
    "        time.sleep(5)\n",
    "        \n",
    "        if cv2.waitKey(1) & 0xff == ord('q'):\n",
    "            break\n",
    "cap.release()\n",
    "cv2.destroyAllWindows()"
   ]
  },
  {
   "cell_type": "markdown",
   "id": "5726ef55",
   "metadata": {},
   "source": [
    "# Image label"
   ]
  },
  {
   "cell_type": "code",
   "execution_count": null,
   "id": "d9762ca9",
   "metadata": {},
   "outputs": [],
   "source": [
    "labelimg_path = os.path.join('tensorflow','imglabel')"
   ]
  },
  {
   "cell_type": "code",
   "execution_count": null,
   "id": "20f2beb5",
   "metadata": {},
   "outputs": [],
   "source": [
    "if not os.path.exists(labelimg_path):\n",
    "    !mkdir {labelimg_path}\n",
    "    !git clone https://github.com/tzutalin/labelImg.git {labelimg_path}\n",
    "    "
   ]
  },
  {
   "cell_type": "code",
   "execution_count": null,
   "id": "138db8c8",
   "metadata": {},
   "outputs": [],
   "source": [
    "! cd {labelimg_path} && pyrcc5 -o libs/resources.py resources.qrc"
   ]
  },
  {
   "cell_type": "code",
   "execution_count": null,
   "id": "8eb89380",
   "metadata": {},
   "outputs": [],
   "source": [
    "! cd {labelimg_path} && python labelImg.py"
   ]
  }
 ],
 "metadata": {
  "kernelspec": {
   "display_name": "Python 3.10(tensorflow)",
   "language": "python",
   "name": "tensorflow"
  },
  "language_info": {
   "codemirror_mode": {
    "name": "ipython",
    "version": 3
   },
   "file_extension": ".py",
   "mimetype": "text/x-python",
   "name": "python",
   "nbconvert_exporter": "python",
   "pygments_lexer": "ipython3",
   "version": "3.9.10"
  }
 },
 "nbformat": 4,
 "nbformat_minor": 5
}
